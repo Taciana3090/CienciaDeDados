{
  "nbformat": 4,
  "nbformat_minor": 0,
  "metadata": {
    "colab": {
      "provenance": [],
      "authorship_tag": "ABX9TyNi1llKe5Vl6G2NCBTQ60D+"
    },
    "kernelspec": {
      "name": "python3",
      "display_name": "Python 3"
    },
    "language_info": {
      "name": "python"
    }
  },
  "cells": [
    {
      "cell_type": "code",
      "execution_count": null,
      "metadata": {
        "id": "fbBeo5Y_A5ac"
      },
      "outputs": [],
      "source": [
        "# MATEMÁTICA E ESTATÍSTICA BÁSICA\n",
        "\n",
        "# numpy -> facilita a rápida execução de cálculos matemáticos e estatísticos em\n",
        "# arrays e matrizes mesmo com uma grande quantidade de observações;\n",
        "\n",
        "# array -> é um conjunto unidimensional onde todos os elementos são do mesmo tipo.\n",
        "\n"
      ]
    },
    {
      "cell_type": "code",
      "source": [
        "import pandas as pd\n",
        "import numpy as np\n",
        "from numpy.random import randn"
      ],
      "metadata": {
        "id": "CiEH5IEiBzKc"
      },
      "execution_count": null,
      "outputs": []
    },
    {
      "cell_type": "code",
      "source": [
        "# visualização de até números com até duas casas decimais\n",
        "np.set_printoptions(precision=2)"
      ],
      "metadata": {
        "id": "OsXOP43rCH-F"
      },
      "execution_count": null,
      "outputs": []
    },
    {
      "cell_type": "code",
      "source": [
        "# criação de um array - modo simples\n",
        "a = np.array([1, 2, 3, 4, 5, 6])\n",
        "a"
      ],
      "metadata": {
        "colab": {
          "base_uri": "https://localhost:8080/"
        },
        "id": "8GLpophfCmfZ",
        "outputId": "036ef389-1095-4d79-a88b-f43689f97554"
      },
      "execution_count": null,
      "outputs": [
        {
          "output_type": "execute_result",
          "data": {
            "text/plain": [
              "array([1, 2, 3, 4, 5, 6])"
            ]
          },
          "metadata": {},
          "execution_count": 5
        }
      ]
    },
    {
      "cell_type": "code",
      "source": [
        "from numpy import random\n",
        "# criação de um array por atribuição\n",
        "np.random.seed(25)\n",
        "b = randn(6)\n",
        "b"
      ],
      "metadata": {
        "colab": {
          "base_uri": "https://localhost:8080/"
        },
        "id": "Hr66frTXC_iz",
        "outputId": "f235880f-cf24-4087-bfaa-304f62fca689"
      },
      "execution_count": null,
      "outputs": [
        {
          "output_type": "execute_result",
          "data": {
            "text/plain": [
              "array([ 0.23,  1.03, -0.84, -0.59, -0.96, -0.22])"
            ]
          },
          "metadata": {},
          "execution_count": 6
        }
      ]
    },
    {
      "cell_type": "code",
      "source": [
        "c = np.arange(1, 35)\n",
        "c "
      ],
      "metadata": {
        "colab": {
          "base_uri": "https://localhost:8080/"
        },
        "id": "EbyX8uY2DYkW",
        "outputId": "b5549490-32b6-4ca7-aea2-cc4476f7d6b5"
      },
      "execution_count": null,
      "outputs": [
        {
          "output_type": "execute_result",
          "data": {
            "text/plain": [
              "array([ 1,  2,  3,  4,  5,  6,  7,  8,  9, 10, 11, 12, 13, 14, 15, 16, 17,\n",
              "       18, 19, 20, 21, 22, 23, 24, 25, 26, 27, 28, 29, 30, 31, 32, 33, 34])"
            ]
          },
          "metadata": {},
          "execution_count": 7
        }
      ]
    },
    {
      "cell_type": "code",
      "source": [
        "# fazendo operações aritméticas com os arrays\n",
        "a + b\n",
        "a * 10\n",
        "a / b \n",
        "\n"
      ],
      "metadata": {
        "colab": {
          "base_uri": "https://localhost:8080/"
        },
        "id": "bwqAxO2NDipf",
        "outputId": "6c333b37-68da-40f6-bf78-47060d27f23e"
      },
      "execution_count": null,
      "outputs": [
        {
          "output_type": "execute_result",
          "data": {
            "text/plain": [
              "array([  4.38,   1.95,  -3.57,  -6.77,  -5.23, -26.99])"
            ]
          },
          "metadata": {},
          "execution_count": 9
        }
      ]
    },
    {
      "cell_type": "code",
      "source": [
        "# Diferente de array, matrizes são objetos que contém conjuntos de dados\n",
        "# bi-dimensionais que contém elementos armazenados em arrays - são arrays de arrays;\n",
        "\n",
        "# multiplicação de matrizes e arrays\n",
        "a = np.arange(3)\n",
        "a\n",
        "\n",
        "aa = np.array([[2., 4., 6.], [1., 3., 5.], [10., 20., 30]])\n",
        "aa\n",
        "\n",
        "a * aa"
      ],
      "metadata": {
        "colab": {
          "base_uri": "https://localhost:8080/"
        },
        "id": "zStDH8VzEESw",
        "outputId": "2d0f568b-018a-4b95-f2d3-4e919ce92869"
      },
      "execution_count": null,
      "outputs": [
        {
          "output_type": "execute_result",
          "data": {
            "text/plain": [
              "array([[ 0.,  4., 12.],\n",
              "       [ 0.,  3., 10.],\n",
              "       [ 0., 20., 60.]])"
            ]
          },
          "metadata": {},
          "execution_count": 14
        }
      ]
    },
    {
      "cell_type": "code",
      "source": [
        "bb = np.arange(9).reshape((3,3))\n",
        "bb\n",
        "\n",
        "aa * bb\n",
        "\n",
        "# perceba que a multiplicação abaixo não é a multiplicação de matrizes que conhecemos\n",
        "# o que aconteceu foi que quando usamos o simbolo de * o numpy achou que nós precisavámos\n",
        "# multiplicar item a item das duas matrizes.\n",
        "# mas o que queremos é fazer a MULTIPLICAÇÃO DE MATRIZES. Para isso use o metódo .dot "
      ],
      "metadata": {
        "colab": {
          "base_uri": "https://localhost:8080/"
        },
        "id": "-8ybnxrTIvEi",
        "outputId": "73ea9101-203c-42de-85e4-978a0b586303"
      },
      "execution_count": null,
      "outputs": [
        {
          "output_type": "execute_result",
          "data": {
            "text/plain": [
              "array([[  0.,   4.,  12.],\n",
              "       [  3.,  12.,  25.],\n",
              "       [ 60., 140., 240.]])"
            ]
          },
          "metadata": {},
          "execution_count": 16
        }
      ]
    },
    {
      "cell_type": "code",
      "source": [
        "np.dot(aa, bb)"
      ],
      "metadata": {
        "colab": {
          "base_uri": "https://localhost:8080/"
        },
        "id": "Aam9Wk9xL4iY",
        "outputId": "3e45b3ca-b6c4-4a51-fc2f-0dc89cc7abd6"
      },
      "execution_count": null,
      "outputs": [
        {
          "output_type": "execute_result",
          "data": {
            "text/plain": [
              "array([[ 48.,  60.,  72.],\n",
              "       [ 39.,  48.,  57.],\n",
              "       [240., 300., 360.]])"
            ]
          },
          "metadata": {},
          "execution_count": 17
        }
      ]
    },
    {
      "cell_type": "code",
      "source": [
        "# metódo do escalar\n",
        "b = a * 3\n",
        "b\n",
        "\n",
        "np.dot(a,b)"
      ],
      "metadata": {
        "colab": {
          "base_uri": "https://localhost:8080/"
        },
        "id": "P5U2HvBqMIwd",
        "outputId": "4b682ce8-14b1-4b66-f1de-dd77a5a1ba94"
      },
      "execution_count": null,
      "outputs": [
        {
          "output_type": "execute_result",
          "data": {
            "text/plain": [
              "15"
            ]
          },
          "metadata": {},
          "execution_count": 19
        }
      ]
    }
  ]
}