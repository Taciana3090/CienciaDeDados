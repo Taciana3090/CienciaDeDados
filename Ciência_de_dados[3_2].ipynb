{
  "nbformat": 4,
  "nbformat_minor": 0,
  "metadata": {
    "colab": {
      "provenance": [],
      "authorship_tag": "ABX9TyNLDlZ8y5DayAUjW5gs9ifC"
    },
    "kernelspec": {
      "name": "python3",
      "display_name": "Python 3"
    },
    "language_info": {
      "name": "python"
    }
  },
  "cells": [
    {
      "cell_type": "code",
      "execution_count": null,
      "metadata": {
        "id": "nZ6bRPTjYmPh"
      },
      "outputs": [],
      "source": [
        "# Variáveis categóricas\n",
        "# existe um limite fixo de valores possíveis;\n",
        "# cada observação é atribuída a um subgrupo específico."
      ]
    },
    {
      "cell_type": "code",
      "source": [
        "import pandas as pd\n",
        "import numpy as np\n",
        "import seaborn as sns\n",
        "\n",
        "caminho = '/content/mtcars.csv'\n",
        "carros = pd.read_csv(caminho)\n",
        "carros.columns = ['nomes', 'npg', 'cyl', 'disp', 'hp', 'drat', 'wt', 'qsec', 'vs', 'am', 'qtd_marchas', 'carb']\n",
        "carros.index = carros.nomes\n",
        "\n"
      ],
      "metadata": {
        "id": "u6h_Sej5ZNTX"
      },
      "execution_count": null,
      "outputs": []
    },
    {
      "cell_type": "code",
      "source": [
        "# selecionando as variáveis categoricas \n",
        "carros_cat = carros[['cyl', 'am', 'qtd_marchas', 'carb']]\n",
        "marchas_grupo = carros_cat.groupby('qtd_marchas')\n",
        "marchas_grupo.describe().T # metódo que transpõem a matriz"
      ],
      "metadata": {
        "colab": {
          "base_uri": "https://localhost:8080/",
          "height": 802
        },
        "id": "T44tMCsWZ-47",
        "outputId": "5f21c7a0-987a-481e-91ab-2923de20bef3"
      },
      "execution_count": null,
      "outputs": [
        {
          "output_type": "execute_result",
          "data": {
            "text/plain": [
              "qtd_marchas          3          4         5\n",
              "cyl  count   15.000000  12.000000  5.000000\n",
              "     mean     7.466667   4.666667  6.000000\n",
              "     std      1.187234   0.984732  2.000000\n",
              "     min      4.000000   4.000000  4.000000\n",
              "     25%      8.000000   4.000000  4.000000\n",
              "     50%      8.000000   4.000000  6.000000\n",
              "     75%      8.000000   6.000000  8.000000\n",
              "     max      8.000000   6.000000  8.000000\n",
              "am   count   15.000000  12.000000  5.000000\n",
              "     mean     0.000000   0.666667  1.000000\n",
              "     std      0.000000   0.492366  0.000000\n",
              "     min      0.000000   0.000000  1.000000\n",
              "     25%      0.000000   0.000000  1.000000\n",
              "     50%      0.000000   1.000000  1.000000\n",
              "     75%      0.000000   1.000000  1.000000\n",
              "     max      0.000000   1.000000  1.000000\n",
              "carb count   15.000000  12.000000  5.000000\n",
              "     mean     2.666667   2.333333  4.400000\n",
              "     std      1.175139   1.302678  2.607681\n",
              "     min      1.000000   1.000000  2.000000\n",
              "     25%      2.000000   1.000000  2.000000\n",
              "     50%      3.000000   2.000000  4.000000\n",
              "     75%      4.000000   4.000000  6.000000\n",
              "     max      4.000000   4.000000  8.000000"
            ],
            "text/html": [
              "\n",
              "  <div id=\"df-4706b036-2584-4381-8a2e-324147034708\">\n",
              "    <div class=\"colab-df-container\">\n",
              "      <div>\n",
              "<style scoped>\n",
              "    .dataframe tbody tr th:only-of-type {\n",
              "        vertical-align: middle;\n",
              "    }\n",
              "\n",
              "    .dataframe tbody tr th {\n",
              "        vertical-align: top;\n",
              "    }\n",
              "\n",
              "    .dataframe thead th {\n",
              "        text-align: right;\n",
              "    }\n",
              "</style>\n",
              "<table border=\"1\" class=\"dataframe\">\n",
              "  <thead>\n",
              "    <tr style=\"text-align: right;\">\n",
              "      <th></th>\n",
              "      <th>qtd_marchas</th>\n",
              "      <th>3</th>\n",
              "      <th>4</th>\n",
              "      <th>5</th>\n",
              "    </tr>\n",
              "  </thead>\n",
              "  <tbody>\n",
              "    <tr>\n",
              "      <th rowspan=\"8\" valign=\"top\">cyl</th>\n",
              "      <th>count</th>\n",
              "      <td>15.000000</td>\n",
              "      <td>12.000000</td>\n",
              "      <td>5.000000</td>\n",
              "    </tr>\n",
              "    <tr>\n",
              "      <th>mean</th>\n",
              "      <td>7.466667</td>\n",
              "      <td>4.666667</td>\n",
              "      <td>6.000000</td>\n",
              "    </tr>\n",
              "    <tr>\n",
              "      <th>std</th>\n",
              "      <td>1.187234</td>\n",
              "      <td>0.984732</td>\n",
              "      <td>2.000000</td>\n",
              "    </tr>\n",
              "    <tr>\n",
              "      <th>min</th>\n",
              "      <td>4.000000</td>\n",
              "      <td>4.000000</td>\n",
              "      <td>4.000000</td>\n",
              "    </tr>\n",
              "    <tr>\n",
              "      <th>25%</th>\n",
              "      <td>8.000000</td>\n",
              "      <td>4.000000</td>\n",
              "      <td>4.000000</td>\n",
              "    </tr>\n",
              "    <tr>\n",
              "      <th>50%</th>\n",
              "      <td>8.000000</td>\n",
              "      <td>4.000000</td>\n",
              "      <td>6.000000</td>\n",
              "    </tr>\n",
              "    <tr>\n",
              "      <th>75%</th>\n",
              "      <td>8.000000</td>\n",
              "      <td>6.000000</td>\n",
              "      <td>8.000000</td>\n",
              "    </tr>\n",
              "    <tr>\n",
              "      <th>max</th>\n",
              "      <td>8.000000</td>\n",
              "      <td>6.000000</td>\n",
              "      <td>8.000000</td>\n",
              "    </tr>\n",
              "    <tr>\n",
              "      <th rowspan=\"8\" valign=\"top\">am</th>\n",
              "      <th>count</th>\n",
              "      <td>15.000000</td>\n",
              "      <td>12.000000</td>\n",
              "      <td>5.000000</td>\n",
              "    </tr>\n",
              "    <tr>\n",
              "      <th>mean</th>\n",
              "      <td>0.000000</td>\n",
              "      <td>0.666667</td>\n",
              "      <td>1.000000</td>\n",
              "    </tr>\n",
              "    <tr>\n",
              "      <th>std</th>\n",
              "      <td>0.000000</td>\n",
              "      <td>0.492366</td>\n",
              "      <td>0.000000</td>\n",
              "    </tr>\n",
              "    <tr>\n",
              "      <th>min</th>\n",
              "      <td>0.000000</td>\n",
              "      <td>0.000000</td>\n",
              "      <td>1.000000</td>\n",
              "    </tr>\n",
              "    <tr>\n",
              "      <th>25%</th>\n",
              "      <td>0.000000</td>\n",
              "      <td>0.000000</td>\n",
              "      <td>1.000000</td>\n",
              "    </tr>\n",
              "    <tr>\n",
              "      <th>50%</th>\n",
              "      <td>0.000000</td>\n",
              "      <td>1.000000</td>\n",
              "      <td>1.000000</td>\n",
              "    </tr>\n",
              "    <tr>\n",
              "      <th>75%</th>\n",
              "      <td>0.000000</td>\n",
              "      <td>1.000000</td>\n",
              "      <td>1.000000</td>\n",
              "    </tr>\n",
              "    <tr>\n",
              "      <th>max</th>\n",
              "      <td>0.000000</td>\n",
              "      <td>1.000000</td>\n",
              "      <td>1.000000</td>\n",
              "    </tr>\n",
              "    <tr>\n",
              "      <th rowspan=\"8\" valign=\"top\">carb</th>\n",
              "      <th>count</th>\n",
              "      <td>15.000000</td>\n",
              "      <td>12.000000</td>\n",
              "      <td>5.000000</td>\n",
              "    </tr>\n",
              "    <tr>\n",
              "      <th>mean</th>\n",
              "      <td>2.666667</td>\n",
              "      <td>2.333333</td>\n",
              "      <td>4.400000</td>\n",
              "    </tr>\n",
              "    <tr>\n",
              "      <th>std</th>\n",
              "      <td>1.175139</td>\n",
              "      <td>1.302678</td>\n",
              "      <td>2.607681</td>\n",
              "    </tr>\n",
              "    <tr>\n",
              "      <th>min</th>\n",
              "      <td>1.000000</td>\n",
              "      <td>1.000000</td>\n",
              "      <td>2.000000</td>\n",
              "    </tr>\n",
              "    <tr>\n",
              "      <th>25%</th>\n",
              "      <td>2.000000</td>\n",
              "      <td>1.000000</td>\n",
              "      <td>2.000000</td>\n",
              "    </tr>\n",
              "    <tr>\n",
              "      <th>50%</th>\n",
              "      <td>3.000000</td>\n",
              "      <td>2.000000</td>\n",
              "      <td>4.000000</td>\n",
              "    </tr>\n",
              "    <tr>\n",
              "      <th>75%</th>\n",
              "      <td>4.000000</td>\n",
              "      <td>4.000000</td>\n",
              "      <td>6.000000</td>\n",
              "    </tr>\n",
              "    <tr>\n",
              "      <th>max</th>\n",
              "      <td>4.000000</td>\n",
              "      <td>4.000000</td>\n",
              "      <td>8.000000</td>\n",
              "    </tr>\n",
              "  </tbody>\n",
              "</table>\n",
              "</div>\n",
              "      <button class=\"colab-df-convert\" onclick=\"convertToInteractive('df-4706b036-2584-4381-8a2e-324147034708')\"\n",
              "              title=\"Convert this dataframe to an interactive table.\"\n",
              "              style=\"display:none;\">\n",
              "        \n",
              "  <svg xmlns=\"http://www.w3.org/2000/svg\" height=\"24px\"viewBox=\"0 0 24 24\"\n",
              "       width=\"24px\">\n",
              "    <path d=\"M0 0h24v24H0V0z\" fill=\"none\"/>\n",
              "    <path d=\"M18.56 5.44l.94 2.06.94-2.06 2.06-.94-2.06-.94-.94-2.06-.94 2.06-2.06.94zm-11 1L8.5 8.5l.94-2.06 2.06-.94-2.06-.94L8.5 2.5l-.94 2.06-2.06.94zm10 10l.94 2.06.94-2.06 2.06-.94-2.06-.94-.94-2.06-.94 2.06-2.06.94z\"/><path d=\"M17.41 7.96l-1.37-1.37c-.4-.4-.92-.59-1.43-.59-.52 0-1.04.2-1.43.59L10.3 9.45l-7.72 7.72c-.78.78-.78 2.05 0 2.83L4 21.41c.39.39.9.59 1.41.59.51 0 1.02-.2 1.41-.59l7.78-7.78 2.81-2.81c.8-.78.8-2.07 0-2.86zM5.41 20L4 18.59l7.72-7.72 1.47 1.35L5.41 20z\"/>\n",
              "  </svg>\n",
              "      </button>\n",
              "      \n",
              "  <style>\n",
              "    .colab-df-container {\n",
              "      display:flex;\n",
              "      flex-wrap:wrap;\n",
              "      gap: 12px;\n",
              "    }\n",
              "\n",
              "    .colab-df-convert {\n",
              "      background-color: #E8F0FE;\n",
              "      border: none;\n",
              "      border-radius: 50%;\n",
              "      cursor: pointer;\n",
              "      display: none;\n",
              "      fill: #1967D2;\n",
              "      height: 32px;\n",
              "      padding: 0 0 0 0;\n",
              "      width: 32px;\n",
              "    }\n",
              "\n",
              "    .colab-df-convert:hover {\n",
              "      background-color: #E2EBFA;\n",
              "      box-shadow: 0px 1px 2px rgba(60, 64, 67, 0.3), 0px 1px 3px 1px rgba(60, 64, 67, 0.15);\n",
              "      fill: #174EA6;\n",
              "    }\n",
              "\n",
              "    [theme=dark] .colab-df-convert {\n",
              "      background-color: #3B4455;\n",
              "      fill: #D2E3FC;\n",
              "    }\n",
              "\n",
              "    [theme=dark] .colab-df-convert:hover {\n",
              "      background-color: #434B5C;\n",
              "      box-shadow: 0px 1px 3px 1px rgba(0, 0, 0, 0.15);\n",
              "      filter: drop-shadow(0px 1px 2px rgba(0, 0, 0, 0.3));\n",
              "      fill: #FFFFFF;\n",
              "    }\n",
              "  </style>\n",
              "\n",
              "      <script>\n",
              "        const buttonEl =\n",
              "          document.querySelector('#df-4706b036-2584-4381-8a2e-324147034708 button.colab-df-convert');\n",
              "        buttonEl.style.display =\n",
              "          google.colab.kernel.accessAllowed ? 'block' : 'none';\n",
              "\n",
              "        async function convertToInteractive(key) {\n",
              "          const element = document.querySelector('#df-4706b036-2584-4381-8a2e-324147034708');\n",
              "          const dataTable =\n",
              "            await google.colab.kernel.invokeFunction('convertToInteractive',\n",
              "                                                     [key], {});\n",
              "          if (!dataTable) return;\n",
              "\n",
              "          const docLinkHtml = 'Like what you see? Visit the ' +\n",
              "            '<a target=\"_blank\" href=https://colab.research.google.com/notebooks/data_table.ipynb>data table notebook</a>'\n",
              "            + ' to learn more about interactive tables.';\n",
              "          element.innerHTML = '';\n",
              "          dataTable['output_type'] = 'display_data';\n",
              "          await google.colab.output.renderOutput(dataTable, element);\n",
              "          const docLink = document.createElement('div');\n",
              "          docLink.innerHTML = docLinkHtml;\n",
              "          element.appendChild(docLink);\n",
              "        }\n",
              "      </script>\n",
              "    </div>\n",
              "  </div>\n",
              "  "
            ]
          },
          "metadata": {},
          "execution_count": 3
        }
      ]
    },
    {
      "cell_type": "code",
      "source": [
        "# transformando variáveis em dados categóricos\n",
        "carros['grupo'] = pd.Series(carros['qtd_marchas'], dtype='category')\n"
      ],
      "metadata": {
        "id": "DIZm5XblbJje"
      },
      "execution_count": null,
      "outputs": []
    },
    {
      "cell_type": "code",
      "source": [
        "carros.dtypes\n",
        "carros['grupo'].head()"
      ],
      "metadata": {
        "colab": {
          "base_uri": "https://localhost:8080/"
        },
        "id": "DivSKBm6buJf",
        "outputId": "19ad4e04-bcda-4a11-fe1c-1bcdb9039536"
      },
      "execution_count": null,
      "outputs": [
        {
          "output_type": "execute_result",
          "data": {
            "text/plain": [
              "nomes\n",
              "Mazda RX4            4\n",
              "Mazda RX4 Wag        4\n",
              "Datsun 710           4\n",
              "Hornet 4 Drive       3\n",
              "Hornet Sportabout    3\n",
              "Name: grupo, dtype: category\n",
              "Categories (3, int64): [3, 4, 5]"
            ]
          },
          "metadata": {},
          "execution_count": 5
        }
      ]
    },
    {
      "cell_type": "code",
      "source": [
        "# tabulação cruzada usando o metódo crosstabs\n",
        "pd.crosstab(carros['am'], carros['qtd_marchas'])\n",
        "# assim conseguimos comparar quantos carros com cambio manual e automatico possuem quantidades de marchas"
      ],
      "metadata": {
        "colab": {
          "base_uri": "https://localhost:8080/",
          "height": 143
        },
        "id": "UrvDOW2ZcUk_",
        "outputId": "98419f49-1b3b-432f-a1c9-499aeec08c7f"
      },
      "execution_count": null,
      "outputs": [
        {
          "output_type": "execute_result",
          "data": {
            "text/plain": [
              "qtd_marchas   3  4  5\n",
              "am                   \n",
              "0            15  4  0\n",
              "1             0  8  5"
            ],
            "text/html": [
              "\n",
              "  <div id=\"df-4cbbef3e-f948-4014-8274-76ea683cde76\">\n",
              "    <div class=\"colab-df-container\">\n",
              "      <div>\n",
              "<style scoped>\n",
              "    .dataframe tbody tr th:only-of-type {\n",
              "        vertical-align: middle;\n",
              "    }\n",
              "\n",
              "    .dataframe tbody tr th {\n",
              "        vertical-align: top;\n",
              "    }\n",
              "\n",
              "    .dataframe thead th {\n",
              "        text-align: right;\n",
              "    }\n",
              "</style>\n",
              "<table border=\"1\" class=\"dataframe\">\n",
              "  <thead>\n",
              "    <tr style=\"text-align: right;\">\n",
              "      <th>qtd_marchas</th>\n",
              "      <th>3</th>\n",
              "      <th>4</th>\n",
              "      <th>5</th>\n",
              "    </tr>\n",
              "    <tr>\n",
              "      <th>am</th>\n",
              "      <th></th>\n",
              "      <th></th>\n",
              "      <th></th>\n",
              "    </tr>\n",
              "  </thead>\n",
              "  <tbody>\n",
              "    <tr>\n",
              "      <th>0</th>\n",
              "      <td>15</td>\n",
              "      <td>4</td>\n",
              "      <td>0</td>\n",
              "    </tr>\n",
              "    <tr>\n",
              "      <th>1</th>\n",
              "      <td>0</td>\n",
              "      <td>8</td>\n",
              "      <td>5</td>\n",
              "    </tr>\n",
              "  </tbody>\n",
              "</table>\n",
              "</div>\n",
              "      <button class=\"colab-df-convert\" onclick=\"convertToInteractive('df-4cbbef3e-f948-4014-8274-76ea683cde76')\"\n",
              "              title=\"Convert this dataframe to an interactive table.\"\n",
              "              style=\"display:none;\">\n",
              "        \n",
              "  <svg xmlns=\"http://www.w3.org/2000/svg\" height=\"24px\"viewBox=\"0 0 24 24\"\n",
              "       width=\"24px\">\n",
              "    <path d=\"M0 0h24v24H0V0z\" fill=\"none\"/>\n",
              "    <path d=\"M18.56 5.44l.94 2.06.94-2.06 2.06-.94-2.06-.94-.94-2.06-.94 2.06-2.06.94zm-11 1L8.5 8.5l.94-2.06 2.06-.94-2.06-.94L8.5 2.5l-.94 2.06-2.06.94zm10 10l.94 2.06.94-2.06 2.06-.94-2.06-.94-.94-2.06-.94 2.06-2.06.94z\"/><path d=\"M17.41 7.96l-1.37-1.37c-.4-.4-.92-.59-1.43-.59-.52 0-1.04.2-1.43.59L10.3 9.45l-7.72 7.72c-.78.78-.78 2.05 0 2.83L4 21.41c.39.39.9.59 1.41.59.51 0 1.02-.2 1.41-.59l7.78-7.78 2.81-2.81c.8-.78.8-2.07 0-2.86zM5.41 20L4 18.59l7.72-7.72 1.47 1.35L5.41 20z\"/>\n",
              "  </svg>\n",
              "      </button>\n",
              "      \n",
              "  <style>\n",
              "    .colab-df-container {\n",
              "      display:flex;\n",
              "      flex-wrap:wrap;\n",
              "      gap: 12px;\n",
              "    }\n",
              "\n",
              "    .colab-df-convert {\n",
              "      background-color: #E8F0FE;\n",
              "      border: none;\n",
              "      border-radius: 50%;\n",
              "      cursor: pointer;\n",
              "      display: none;\n",
              "      fill: #1967D2;\n",
              "      height: 32px;\n",
              "      padding: 0 0 0 0;\n",
              "      width: 32px;\n",
              "    }\n",
              "\n",
              "    .colab-df-convert:hover {\n",
              "      background-color: #E2EBFA;\n",
              "      box-shadow: 0px 1px 2px rgba(60, 64, 67, 0.3), 0px 1px 3px 1px rgba(60, 64, 67, 0.15);\n",
              "      fill: #174EA6;\n",
              "    }\n",
              "\n",
              "    [theme=dark] .colab-df-convert {\n",
              "      background-color: #3B4455;\n",
              "      fill: #D2E3FC;\n",
              "    }\n",
              "\n",
              "    [theme=dark] .colab-df-convert:hover {\n",
              "      background-color: #434B5C;\n",
              "      box-shadow: 0px 1px 3px 1px rgba(0, 0, 0, 0.15);\n",
              "      filter: drop-shadow(0px 1px 2px rgba(0, 0, 0, 0.3));\n",
              "      fill: #FFFFFF;\n",
              "    }\n",
              "  </style>\n",
              "\n",
              "      <script>\n",
              "        const buttonEl =\n",
              "          document.querySelector('#df-4cbbef3e-f948-4014-8274-76ea683cde76 button.colab-df-convert');\n",
              "        buttonEl.style.display =\n",
              "          google.colab.kernel.accessAllowed ? 'block' : 'none';\n",
              "\n",
              "        async function convertToInteractive(key) {\n",
              "          const element = document.querySelector('#df-4cbbef3e-f948-4014-8274-76ea683cde76');\n",
              "          const dataTable =\n",
              "            await google.colab.kernel.invokeFunction('convertToInteractive',\n",
              "                                                     [key], {});\n",
              "          if (!dataTable) return;\n",
              "\n",
              "          const docLinkHtml = 'Like what you see? Visit the ' +\n",
              "            '<a target=\"_blank\" href=https://colab.research.google.com/notebooks/data_table.ipynb>data table notebook</a>'\n",
              "            + ' to learn more about interactive tables.';\n",
              "          element.innerHTML = '';\n",
              "          dataTable['output_type'] = 'display_data';\n",
              "          await google.colab.output.renderOutput(dataTable, element);\n",
              "          const docLink = document.createElement('div');\n",
              "          docLink.innerHTML = docLinkHtml;\n",
              "          element.appendChild(docLink);\n",
              "        }\n",
              "      </script>\n",
              "    </div>\n",
              "  </div>\n",
              "  "
            ]
          },
          "metadata": {},
          "execution_count": 6
        }
      ]
    },
    {
      "cell_type": "code",
      "source": [
        "# CORRELAÇÃO NÃO IMPLICA CAUSALIDADE \n",
        "\n",
        "# Correlação de PEARSON: pressupostos\n",
        "# - seus dados possuem distribuição normal;\n",
        "# - você tem variáveis numéricas/contínuas;\n",
        "# - suas variáveis têm uma relação linear.\n",
        "\n",
        "# sendo assim, pearson é bastante utilizado para descobrir relações lineares entre variáveis..\n",
        "# .. não descartar relações possíveis(não-lineares) entre variáveis.\n",
        "\n"
      ],
      "metadata": {
        "id": "O7DRW4nsc38M"
      },
      "execution_count": null,
      "outputs": []
    },
    {
      "cell_type": "code",
      "source": [
        "# calculando o coeficiente de pearson\n",
        "\n",
        "from scipy.stats.stats import pearsonr\n",
        "\n",
        "X = carros[['npg', 'hp', 'wt', 'qsec']]\n",
        "sns.pairplot(X)"
      ],
      "metadata": {
        "colab": {
          "base_uri": "https://localhost:8080/",
          "height": 743
        },
        "id": "AFi8axZWd6gY",
        "outputId": "b50a016c-773f-4e96-bc02-53f6ce929439"
      },
      "execution_count": null,
      "outputs": [
        {
          "output_type": "execute_result",
          "data": {
            "text/plain": [
              "<seaborn.axisgrid.PairGrid at 0x7fe2f76792d0>"
            ]
          },
          "metadata": {},
          "execution_count": 7
        },
        {
          "output_type": "display_data",
          "data": {
            "text/plain": [
              "<Figure size 720x720 with 20 Axes>"
            ],
            "image/png": "[encoded data removed]"
          },
          "metadata": {
            "needs_background": "light"
          }
        }
      ]
    },
    {
      "cell_type": "code",
      "source": [
        "# Usando o scipy para calcular o coeficiente de correlação de Pearson - metodo parametricos\n",
        "npg = carros['npg']\n",
        "hp = carros['hp']\n",
        "qsec = carros['qsec']\n",
        "wt = carros['wt']\n",
        "\n",
        "coeficiente_pearson, p_valor = pearsonr(npg, hp)\n",
        "print(f'Coeficiente de pearson {coeficiente_pearson :.3}')"
      ],
      "metadata": {
        "id": "N828t0PWfY7H",
        "colab": {
          "base_uri": "https://localhost:8080/"
        },
        "outputId": "893db93a-d934-48a7-cf9e-a5af2cc470f7"
      },
      "execution_count": null,
      "outputs": [
        {
          "output_type": "stream",
          "name": "stdout",
          "text": [
            "Coeficiente de pearson -0.776\n"
          ]
        }
      ]
    },
    {
      "cell_type": "code",
      "source": [
        "coeficiente_pearson, p_valor = pearsonr(npg, qsec)\n",
        "print(f'Coeficiente de pearson {coeficiente_pearson :.3}')"
      ],
      "metadata": {
        "colab": {
          "base_uri": "https://localhost:8080/"
        },
        "id": "1uLjFTGJ4bos",
        "outputId": "4cb63813-36ba-4abd-dd5d-dc9be2263c5a"
      },
      "execution_count": null,
      "outputs": [
        {
          "output_type": "stream",
          "name": "stdout",
          "text": [
            "Coeficiente de pearson 0.419\n"
          ]
        }
      ]
    },
    {
      "cell_type": "code",
      "source": [
        "coeficiente_pearson, p_valor = pearsonr(npg, wt)\n",
        "print(f'Coeficiente de pearson {coeficiente_pearson :.3}')"
      ],
      "metadata": {
        "colab": {
          "base_uri": "https://localhost:8080/"
        },
        "id": "ry8uXteL4fnB",
        "outputId": "c62f98dd-06fc-4adf-e72b-761a2a32195b"
      },
      "execution_count": null,
      "outputs": [
        {
          "output_type": "stream",
          "name": "stdout",
          "text": [
            "Coeficiente de pearson -0.868\n"
          ]
        }
      ]
    },
    {
      "cell_type": "code",
      "source": [
        "# Usando o pandas para calcular o coeficiente de correlação de pearson\n",
        "corr = X.corr()\n",
        "corr\n",
        "# por padrão o metodo corr faz os calculos de todos os coeficientes e retorna\n",
        "# um novo dataframe com os resultados.- para todas as variáveis - "
      ],
      "metadata": {
        "colab": {
          "base_uri": "https://localhost:8080/",
          "height": 175
        },
        "id": "5VRErlJ94oPT",
        "outputId": "1c35a3d2-72fe-49fb-989f-625b9bf24d40"
      },
      "execution_count": null,
      "outputs": [
        {
          "output_type": "execute_result",
          "data": {
            "text/plain": [
              "           npg        hp        wt      qsec\n",
              "npg   1.000000 -0.776168 -0.867659  0.418684\n",
              "hp   -0.776168  1.000000  0.658748 -0.708223\n",
              "wt   -0.867659  0.658748  1.000000 -0.174716\n",
              "qsec  0.418684 -0.708223 -0.174716  1.000000"
            ],
            "text/html": [
              "\n",
              "  <div id=\"df-022361b0-3a32-43b8-836e-9dbc32ab9556\">\n",
              "    <div class=\"colab-df-container\">\n",
              "      <div>\n",
              "<style scoped>\n",
              "    .dataframe tbody tr th:only-of-type {\n",
              "        vertical-align: middle;\n",
              "    }\n",
              "\n",
              "    .dataframe tbody tr th {\n",
              "        vertical-align: top;\n",
              "    }\n",
              "\n",
              "    .dataframe thead th {\n",
              "        text-align: right;\n",
              "    }\n",
              "</style>\n",
              "<table border=\"1\" class=\"dataframe\">\n",
              "  <thead>\n",
              "    <tr style=\"text-align: right;\">\n",
              "      <th></th>\n",
              "      <th>npg</th>\n",
              "      <th>hp</th>\n",
              "      <th>wt</th>\n",
              "      <th>qsec</th>\n",
              "    </tr>\n",
              "  </thead>\n",
              "  <tbody>\n",
              "    <tr>\n",
              "      <th>npg</th>\n",
              "      <td>1.000000</td>\n",
              "      <td>-0.776168</td>\n",
              "      <td>-0.867659</td>\n",
              "      <td>0.418684</td>\n",
              "    </tr>\n",
              "    <tr>\n",
              "      <th>hp</th>\n",
              "      <td>-0.776168</td>\n",
              "      <td>1.000000</td>\n",
              "      <td>0.658748</td>\n",
              "      <td>-0.708223</td>\n",
              "    </tr>\n",
              "    <tr>\n",
              "      <th>wt</th>\n",
              "      <td>-0.867659</td>\n",
              "      <td>0.658748</td>\n",
              "      <td>1.000000</td>\n",
              "      <td>-0.174716</td>\n",
              "    </tr>\n",
              "    <tr>\n",
              "      <th>qsec</th>\n",
              "      <td>0.418684</td>\n",
              "      <td>-0.708223</td>\n",
              "      <td>-0.174716</td>\n",
              "      <td>1.000000</td>\n",
              "    </tr>\n",
              "  </tbody>\n",
              "</table>\n",
              "</div>\n",
              "      <button class=\"colab-df-convert\" onclick=\"convertToInteractive('df-022361b0-3a32-43b8-836e-9dbc32ab9556')\"\n",
              "              title=\"Convert this dataframe to an interactive table.\"\n",
              "              style=\"display:none;\">\n",
              "        \n",
              "  <svg xmlns=\"http://www.w3.org/2000/svg\" height=\"24px\"viewBox=\"0 0 24 24\"\n",
              "       width=\"24px\">\n",
              "    <path d=\"M0 0h24v24H0V0z\" fill=\"none\"/>\n",
              "    <path d=\"M18.56 5.44l.94 2.06.94-2.06 2.06-.94-2.06-.94-.94-2.06-.94 2.06-2.06.94zm-11 1L8.5 8.5l.94-2.06 2.06-.94-2.06-.94L8.5 2.5l-.94 2.06-2.06.94zm10 10l.94 2.06.94-2.06 2.06-.94-2.06-.94-.94-2.06-.94 2.06-2.06.94z\"/><path d=\"M17.41 7.96l-1.37-1.37c-.4-.4-.92-.59-1.43-.59-.52 0-1.04.2-1.43.59L10.3 9.45l-7.72 7.72c-.78.78-.78 2.05 0 2.83L4 21.41c.39.39.9.59 1.41.59.51 0 1.02-.2 1.41-.59l7.78-7.78 2.81-2.81c.8-.78.8-2.07 0-2.86zM5.41 20L4 18.59l7.72-7.72 1.47 1.35L5.41 20z\"/>\n",
              "  </svg>\n",
              "      </button>\n",
              "      \n",
              "  <style>\n",
              "    .colab-df-container {\n",
              "      display:flex;\n",
              "      flex-wrap:wrap;\n",
              "      gap: 12px;\n",
              "    }\n",
              "\n",
              "    .colab-df-convert {\n",
              "      background-color: #E8F0FE;\n",
              "      border: none;\n",
              "      border-radius: 50%;\n",
              "      cursor: pointer;\n",
              "      display: none;\n",
              "      fill: #1967D2;\n",
              "      height: 32px;\n",
              "      padding: 0 0 0 0;\n",
              "      width: 32px;\n",
              "    }\n",
              "\n",
              "    .colab-df-convert:hover {\n",
              "      background-color: #E2EBFA;\n",
              "      box-shadow: 0px 1px 2px rgba(60, 64, 67, 0.3), 0px 1px 3px 1px rgba(60, 64, 67, 0.15);\n",
              "      fill: #174EA6;\n",
              "    }\n",
              "\n",
              "    [theme=dark] .colab-df-convert {\n",
              "      background-color: #3B4455;\n",
              "      fill: #D2E3FC;\n",
              "    }\n",
              "\n",
              "    [theme=dark] .colab-df-convert:hover {\n",
              "      background-color: #434B5C;\n",
              "      box-shadow: 0px 1px 3px 1px rgba(0, 0, 0, 0.15);\n",
              "      filter: drop-shadow(0px 1px 2px rgba(0, 0, 0, 0.3));\n",
              "      fill: #FFFFFF;\n",
              "    }\n",
              "  </style>\n",
              "\n",
              "      <script>\n",
              "        const buttonEl =\n",
              "          document.querySelector('#df-022361b0-3a32-43b8-836e-9dbc32ab9556 button.colab-df-convert');\n",
              "        buttonEl.style.display =\n",
              "          google.colab.kernel.accessAllowed ? 'block' : 'none';\n",
              "\n",
              "        async function convertToInteractive(key) {\n",
              "          const element = document.querySelector('#df-022361b0-3a32-43b8-836e-9dbc32ab9556');\n",
              "          const dataTable =\n",
              "            await google.colab.kernel.invokeFunction('convertToInteractive',\n",
              "                                                     [key], {});\n",
              "          if (!dataTable) return;\n",
              "\n",
              "          const docLinkHtml = 'Like what you see? Visit the ' +\n",
              "            '<a target=\"_blank\" href=https://colab.research.google.com/notebooks/data_table.ipynb>data table notebook</a>'\n",
              "            + ' to learn more about interactive tables.';\n",
              "          element.innerHTML = '';\n",
              "          dataTable['output_type'] = 'display_data';\n",
              "          await google.colab.output.renderOutput(dataTable, element);\n",
              "          const docLink = document.createElement('div');\n",
              "          docLink.innerHTML = docLinkHtml;\n",
              "          element.appendChild(docLink);\n",
              "        }\n",
              "      </script>\n",
              "    </div>\n",
              "  </div>\n",
              "  "
            ]
          },
          "metadata": {},
          "execution_count": 11
        }
      ]
    },
    {
      "cell_type": "code",
      "source": [
        "# visualizando o coeficiente de pearson com o seaborn\n",
        "_=sns.heatmap(corr, xticklabels=corr.columns.values, yticklabels=corr.columns.values)\n",
        "# após os calculos da correlação o seaborn mostrará abaixo um mapa de calor que \n",
        "# indica visualmente o quão relacionados estão cada uma das nossas variáveis. \n",
        "# logo cada cor do nosso mapa de calor corresponde a um valor de correlação.\n",
        "# Quanto mais clarinho nesse caso mais, mais proximo do 1 e quanto mais escuro mais próximo do -1."
      ],
      "metadata": {
        "colab": {
          "base_uri": "https://localhost:8080/",
          "height": 269
        },
        "id": "h2MYLL_F5WUH",
        "outputId": "09346d89-c173-42f8-8a28-f43b3ddacbd5"
      },
      "execution_count": null,
      "outputs": [
        {
          "output_type": "display_data",
          "data": {
            "text/plain": [
              "<Figure size 432x288 with 2 Axes>"
            ],
            "image/png": "[encoded data removed]"
          },
          "metadata": {
            "needs_background": "light"
          }
        }
      ]
    },
    {
      "cell_type": "code",
      "source": [
        "# Agora iremos usar metodos não parametricos para correlações.\n",
        "# usaremos esse tipo de analise para encontrar correlação \n",
        "# entre dados categoricos relacionados não linearmente para isso\n",
        "# usaremos o metodo do spearman, tabela de qui-quadrado.\n",
        "\n",
        "# O metodo do spearman encontra a correlação entre pares de variáveis\n",
        "# com dados ordinais - que é um variável numérica que podemos transformar em um dado categorico - . Os pares podem então ser ordenados de acordo com\n",
        "# a força da correlação entre eles.\n",
        "\n",
        "# CORRELAÇÃO SPEARMAN: PRESSUPOSTOS\n",
        "# - Suas variáveis são ordinais, ou seja, numéricas, mas capazes de serem ...\n",
        "# ... interpretadas como dados categóricos;\n",
        "# Suas variáveis não se relacionam linearmente;\n",
        "# Os dados não apresentam distribuição normal.\n",
        "\n",
        "# QUI-QUADRADO PARA TESTE DE INDEPENDÊNCIA\n",
        "# Serve para testar a independência das variáveis. Sendo assim, a hipótese nula ..\n",
        "# ... é que as variáveis são, de fato, independentes. Para isso, ao rodar o teste, ...\n",
        "# ... se obtivermos um valor menor que 0.05, nós rejeitamos a hipótese nula e concluímos que ...\n",
        "# ... as variáveis são correlacionadas;\n",
        "# Caso contrário, aceitamos a hipótese nula e concluímos que as variáveis são independentes..\n",
        "# PRESSUPOSTOS\n",
        "# - Usamos o QUI-QUADRADO em variáveis numéricas ou categóricas;\n",
        "# - *Se por um acaso a sua variável for contínua, precisamos dividir os valores em \"bins\"...\n",
        "# ... - bins são intervalos numéricos.\n",
        "\n"
      ],
      "metadata": {
        "id": "IS7mFflgCiSv"
      },
      "execution_count": null,
      "outputs": []
    },
    {
      "cell_type": "code",
      "source": [
        "# USANDO O MÉTODO SPEARMAN E QUI-QUADRADO\n",
        "\n",
        "from scipy.stats import spearmanr\n",
        "\n",
        "# De todo o nosso dataset apenas 4 variáveis seguem o pressuposto da correlação.\n",
        "\n",
        "X = carros[['cyl', 'vs', 'am', 'qtd_marchas']] # quantidade de cilindros, formato do motor, tipo do câmbio e quantidade de marchas\n",
        "sns.pairplot(X) # matriz de pairplot\n",
        "# Olhando para a matriz de gráficos, eu consigo ver que, nos histogramas os meus dados não apresentam...\n",
        "# ... uma distribuição normal. E eu também consigo investigar que, olhando os scartter plots, ...\n",
        "# ... eles são variáveis ordinais e não linearmente relacionados.\n"
      ],
      "metadata": {
        "colab": {
          "base_uri": "https://localhost:8080/",
          "height": 743
        },
        "id": "qN6CP29AphWo",
        "outputId": "ebd0c85a-9d81-43d0-8aab-f6d80ad74a1d"
      },
      "execution_count": null,
      "outputs": [
        {
          "output_type": "execute_result",
          "data": {
            "text/plain": [
              "<seaborn.axisgrid.PairGrid at 0x7fe2dd095190>"
            ]
          },
          "metadata": {},
          "execution_count": 15
        },
        {
          "output_type": "display_data",
          "data": {
            "text/plain": [
              "<Figure size 720x720 with 20 Axes>"
            ],
            "image/png": "[encoded data removed]"
          },
          "metadata": {
            "needs_background": "light"
          }
        }
      ]
    },
    {
      "cell_type": "code",
      "source": [
        "cyl = carros['cyl']\n",
        "vs = carros['vs']\n",
        "am = carros['am']\n",
        "qtd_marchas = carros['qtd_marchas']\n",
        "\n",
        "coeficiente, p_valor = spearmanr(cyl, vs)\n",
        "print(f\"Correlação de Spearman: {coeficiente :.3}\")"
      ],
      "metadata": {
        "colab": {
          "base_uri": "https://localhost:8080/"
        },
        "id": "GaGv3Bo8rt6Y",
        "outputId": "ffcbc1ec-a2d9-4b21-e296-7b2023e420d7"
      },
      "execution_count": null,
      "outputs": [
        {
          "output_type": "stream",
          "name": "stdout",
          "text": [
            "Correlação de Spearman: -0.814\n"
          ]
        }
      ]
    },
    {
      "cell_type": "code",
      "source": [
        "coeficiente, p_valor = spearmanr(cyl, am)\n",
        "print(f\"Correlação de Spearman: {coeficiente :.3}\")"
      ],
      "metadata": {
        "colab": {
          "base_uri": "https://localhost:8080/"
        },
        "id": "3Kqmj127s6T_",
        "outputId": "df7c872c-0582-470d-f22d-3afe126af6b6"
      },
      "execution_count": null,
      "outputs": [
        {
          "output_type": "stream",
          "name": "stdout",
          "text": [
            "Correlação de Spearman: -0.522\n"
          ]
        }
      ]
    },
    {
      "cell_type": "code",
      "source": [
        "coeficiente, p_valor = spearmanr(cyl, qtd_marchas)\n",
        "print(f\"Correlação de Spearman: {coeficiente :.3}\")"
      ],
      "metadata": {
        "colab": {
          "base_uri": "https://localhost:8080/"
        },
        "id": "-iTi4ZdRs8Xs",
        "outputId": "ceeaa471-8089-43d9-d0c0-7cb6c835f2b6"
      },
      "execution_count": null,
      "outputs": [
        {
          "output_type": "stream",
          "name": "stdout",
          "text": [
            "Correlação de Spearman: -0.564\n"
          ]
        }
      ]
    },
    {
      "cell_type": "code",
      "source": [
        "# Acima conseguimos ver que os cilindros e o formato do motor têm uma relação muito forte ...\n",
        "# ... enquanto os cilindros e tipo de câmbio e cilindros e a quantidade de marchas têm ...\n",
        "# ... um relação mais amena. "
      ],
      "metadata": {
        "id": "49bUpoH6tEsz"
      },
      "execution_count": null,
      "outputs": []
    },
    {
      "cell_type": "code",
      "source": [
        "# Agora iremos realizar o calculo do QUI-QUADRADO\n",
        "# Para isso, nós precisamos comeeçar fazendo um crossTAB\n",
        "\n",
        "tab = pd.crosstab(cyl, am)\n",
        "\n",
        "from scipy.stats import chi2_contingency\n",
        "chi2, p, dof, exp = chi2_contingency(tab.values)\n",
        "print(f'Qui_quadrado: {chi2 :.3} p-valor {p:.3}') "
      ],
      "metadata": {
        "colab": {
          "base_uri": "https://localhost:8080/"
        },
        "id": "u593tRm3trQC",
        "outputId": "0258c242-be65-4c16-b706-17b0b862e987"
      },
      "execution_count": null,
      "outputs": [
        {
          "output_type": "stream",
          "name": "stdout",
          "text": [
            "Qui_quadrado: 8.74 p-valor 0.0126\n"
          ]
        }
      ]
    },
    {
      "cell_type": "code",
      "source": [
        "tab = pd.crosstab(cyl, vs)\n",
        "\n",
        "chi2, p, dof, exp = chi2_contingency(tab.values)\n",
        "print(f'Qui_quadrado: {chi2 :.3} p-valor {p:.3}') "
      ],
      "metadata": {
        "colab": {
          "base_uri": "https://localhost:8080/"
        },
        "id": "NfbpdTEWvUO-",
        "outputId": "c9ababa6-0cf2-4888-bd6a-6900666f8de4"
      },
      "execution_count": null,
      "outputs": [
        {
          "output_type": "stream",
          "name": "stdout",
          "text": [
            "Qui_quadrado: 21.3 p-valor 2.32e-05\n"
          ]
        }
      ]
    },
    {
      "cell_type": "code",
      "source": [
        "tab = pd.crosstab(cyl, qtd_marchas)\n",
        "\n",
        "chi2, p, dof, exp = chi2_contingency(tab.values)\n",
        "print(f'Qui_quadrado: {chi2 :.3} p-valor {p:.3}') "
      ],
      "metadata": {
        "colab": {
          "base_uri": "https://localhost:8080/"
        },
        "id": "_uAdjwdavjMC",
        "outputId": "55805aee-136c-40fd-f970-5161101cec9b"
      },
      "execution_count": null,
      "outputs": [
        {
          "output_type": "stream",
          "name": "stdout",
          "text": [
            "Qui_quadrado: 18.0 p-valor 0.00121\n"
          ]
        }
      ]
    }
  ]
}